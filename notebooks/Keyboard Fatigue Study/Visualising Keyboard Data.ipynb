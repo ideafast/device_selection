{
 "cells": [
  {
   "cell_type": "code",
   "execution_count": null,
   "id": "daacfa0d",
   "metadata": {},
   "outputs": [],
   "source": [
    "from pathlib import Path\n",
    "import pandas as pd\n",
    "import altair as alt\n",
    "from altair import datum\n",
    "\n",
    "import ideafast_deviceselection as ifds\n",
    "\n",
    "source = Path(ifds.__file__).parent.parent.absolute() / 'local/keyboard/parsed'\n",
    "\n",
    "raw = pd.read_csv(source / 'implicit_raw.csv')\n",
    "df = pd.read_csv(source / 'implicit_only_valid.csv')\n",
    "\n",
    "list(df)\n",
    "    "
   ]
  },
  {
   "cell_type": "markdown",
   "id": "6853de55",
   "metadata": {},
   "source": [
    "## Overviews of the data"
   ]
  },
  {
   "cell_type": "code",
   "execution_count": null,
   "id": "e3e35fa7",
   "metadata": {},
   "outputs": [],
   "source": [
    "# amount and quality per participants\n",
    "\n",
    "quality_by_patient = raw.groupby(['participant','quality']).agg({'day':['count']})\n",
    "quality_by_patient.columns = ['count']\n",
    "\n",
    "selection = alt.selection_multi(fields=['quality'], bind='legend')\n",
    "\n",
    "alt.Chart(quality_by_patient.reset_index()).mark_bar().encode(\n",
    "    x='participant:N',\n",
    "    y='count',\n",
    "    color='quality'\n",
    ").add_selection(\n",
    "    selection\n",
    ").transform_filter(\n",
    "    selection\n",
    ").properties(\n",
    "    title='Total recorded implicit datapoints'\n",
    ")"
   ]
  },
  {
   "cell_type": "code",
   "execution_count": null,
   "id": "71068602",
   "metadata": {},
   "outputs": [],
   "source": [
    "# VALID metrics per participant per day\n",
    "\n",
    "summed_metrics_by_day = df.groupby(['participant', 'day_relative']).sum()\n",
    "\n",
    "selection = alt.selection_multi(fields=['participant'], bind='legend')\n",
    "\n",
    "alt.Chart(summed_metrics_by_day.reset_index()).mark_line().encode(\n",
    "    alt.X('day_relative:Q', axis=alt.Axis(title='Days into the study', tickCount=14), scale=alt.Scale(domain=(0, 13))),\n",
    "    alt.Y('action-count:Q', axis=alt.Axis(title='Total recorded actions')),\n",
    "    color='participant:N',\n",
    ").add_selection(\n",
    "    selection\n",
    ").transform_filter(\n",
    "    selection\n",
    ").properties(\n",
    "    width = 800\n",
    ")"
   ]
  },
  {
   "cell_type": "code",
   "execution_count": null,
   "id": "0ed58fd3",
   "metadata": {},
   "outputs": [],
   "source": [
    "# overview of metrics per participant \n",
    "subdf = df[['participant','timestamp','total-error-rate','words-per-minute']]\n",
    "\n",
    "print(\"Double click to reset zoom level.\")\n",
    "\n",
    "charts = []\n",
    "\n",
    "for p in range(1,21):\n",
    "    \n",
    "    data = (subdf[subdf['participant'] == p].drop(columns=['participant'])).melt('timestamp',var_name='metric',value_name='value')\n",
    "   \n",
    "    base = alt.Chart(data).mark_line(opacity=.7).encode(\n",
    "        alt.X('timestamp:T',\n",
    "              scale=alt.Scale(domain=[data.timestamp.min(), pd.to_datetime(data.timestamp.min()) + pd.Timedelta(\"14 days\")]),\n",
    "             ),\n",
    "        #x='timestamp:T',\n",
    "        y='value:Q',\n",
    "        color='metric:N'\n",
    "    ).properties(\n",
    "        width=800,\n",
    "        height=100,\n",
    "        title= f'Participant {p}'\n",
    "    ).interactive(bind_y=False)\n",
    "    \n",
    "    charts.append(base)\n",
    "    \n",
    "alt.vconcat(*charts)\n"
   ]
  },
  {
   "cell_type": "markdown",
   "id": "81873b11",
   "metadata": {},
   "source": [
    "## Overall Metrics\n",
    "\n",
    "Overall, we want to report on the following metrics - at least for the Device Selection report for both WP3 and WP4:\n",
    "\n",
    "### Implicit/Passive text-entry behaviour collection\n",
    "These metrics are based on data combined from both studies (FCID and UNEW)\n",
    "- Mean, SD, min-max of implicit text-entry sessions per day\n",
    "- Intra-/Individual variation on average implicit sessions per day per participant (i.e., consistency)\n",
    "- Mean, SD, min-max duration in between implicit text-entry sessions (i.e., consistency) [optional, @André what do you think?]\n",
    "    \n",
    "### Explicit text-entry behaviour collection (composition and transcription tasks)\n",
    "These metrics are split per-study (due to differences in setup)\n",
    "- composition compliance: % of at least one response for a composition task\n",
    "- transcription compliance: % of at least one respone for a transcription task\n",
    "\n",
    "### Correlations between fatigue measurement and any calculated metrics\n",
    "The below repeated measure correlation is mimicked from [WP4's approach to correlating with SMA data](https://github.com/ideafast/ideafast-pipeline/blob/pipe-dev-Rana/src/Functions_RepeatedMeasureCorrelation.py).\n",
    "- \n"
   ]
  },
  {
   "cell_type": "code",
   "execution_count": null,
   "id": "d1d03bcc",
   "metadata": {},
   "outputs": [],
   "source": [
    "# "
   ]
  },
  {
   "cell_type": "code",
   "execution_count": null,
   "id": "9c9bfdf5",
   "metadata": {},
   "outputs": [],
   "source": []
  }
 ],
 "metadata": {
  "kernelspec": {
   "display_name": "Python 3",
   "language": "python",
   "name": "python3"
  },
  "language_info": {
   "codemirror_mode": {
    "name": "ipython",
    "version": 3
   },
   "file_extension": ".py",
   "mimetype": "text/x-python",
   "name": "python",
   "nbconvert_exporter": "python",
   "pygments_lexer": "ipython3",
   "version": "3.8.0"
  }
 },
 "nbformat": 4,
 "nbformat_minor": 5
}
