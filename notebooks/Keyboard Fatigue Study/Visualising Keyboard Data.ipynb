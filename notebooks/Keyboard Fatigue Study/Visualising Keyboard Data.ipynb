{
 "cells": [
  {
   "cell_type": "code",
   "execution_count": null,
   "id": "30e2f4ee",
   "metadata": {},
   "outputs": [],
   "source": [
    "# TODO: make cells below work from `.csv` file \n"
   ]
  },
  {
   "cell_type": "code",
   "execution_count": null,
   "id": "daacfa0d",
   "metadata": {},
   "outputs": [],
   "source": [
    "from pathlib import Path\n",
    "import pandas as pd\n",
    "import altair as alt\n",
    "\n",
    "import ideafast_deviceselection as ifds\n",
    "\n",
    "source = Path(ifds.__file__).parent.parent.absolute() / 'local/keyboard'\n",
    "users = source /'users'"
   ]
  },
  {
   "cell_type": "code",
   "execution_count": null,
   "id": "e3e35fa7",
   "metadata": {},
   "outputs": [],
   "source": [
    "# quality of data\n",
    "\n",
    "quality_by_patient = df.groupby(['participant','quality']).agg({'datetime':['count']})\n",
    "quality_by_patient.columns = ['count']\n",
    "\n",
    "quality_total = quality_by_patient.groupby('quality').sum()\n",
    "\n",
    "print(f'Quality and total of all ({quality_total.sum().sum()}) records  \\n')\n",
    "print(quality_total)\n",
    "\n",
    "alt.Chart(quality_by_patient.reset_index()).mark_bar().encode(\n",
    "    x='participant:N',\n",
    "    y='count',\n",
    "    color='quality'\n",
    ")"
   ]
  },
  {
   "cell_type": "code",
   "execution_count": null,
   "id": "abda41b7",
   "metadata": {},
   "outputs": [],
   "source": [
    "# Calculate metrics per day, filter on valid and non-disregarded entries\n",
    "\n",
    "overview = df[df['valid']=='yes'].groupby(['participant','date_rel']).agg({'wpm': ['mean', 'min', 'max'], 'error_count':['mean', 'min', 'max']})\n",
    "overview.columns = ['wpm_mean', 'wpm_min', 'wpm_max', 'error_mean', 'error_min', 'error_max']"
   ]
  },
  {
   "cell_type": "code",
   "execution_count": null,
   "id": "6edcf97d",
   "metadata": {},
   "outputs": [],
   "source": [
    "base = alt.Chart(overview.reset_index())\n",
    "\n",
    "selection = alt.selection_multi(fields=['participant'], bind='legend')\n",
    "\n",
    "base.mark_line().encode(\n",
    "    alt.X('date_rel:O', axis=alt.Axis(title='Days into the study')),\n",
    "    alt.Y('wpm_mean:Q', axis=alt.Axis(title='Average words-per-minute')),\n",
    "    color='participant:N',\n",
    "    opacity = alt.condition(selection, alt.value(1.0), alt.value(0.05))\n",
    ").add_selection(\n",
    "    selection\n",
    ").properties(\n",
    "    title='Average words-per-minute, per day'\n",
    ")\n"
   ]
  }
 ],
 "metadata": {
  "kernelspec": {
   "display_name": "Python 3",
   "language": "python",
   "name": "python3"
  },
  "language_info": {
   "codemirror_mode": {
    "name": "ipython",
    "version": 3
   },
   "file_extension": ".py",
   "mimetype": "text/x-python",
   "name": "python",
   "nbconvert_exporter": "python",
   "pygments_lexer": "ipython3",
   "version": "3.8.0"
  }
 },
 "nbformat": 4,
 "nbformat_minor": 5
}
