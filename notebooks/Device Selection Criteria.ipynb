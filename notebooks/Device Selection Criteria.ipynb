{
 "cells": [
  {
   "cell_type": "code",
   "execution_count": null,
   "id": "1eaf27a1",
   "metadata": {},
   "outputs": [],
   "source": [
    "from pathlib import Path\n",
    "\n",
    "import pandas as pd\n",
    "import altair as alt\n",
    "import numpy as np\n",
    "\n",
    "import ideafast_deviceselection as ifds\n",
    "\n",
    "source = Path(ifds.__file__).parent.parent.absolute() / 'local/DeviceSelectionScoring.xlsx'\n",
    "\n",
    "\n",
    "df = pd.read_excel(\n",
    "    f\"{source}\",\n",
    "    index_col=0, header=[0,1], nrows=63,\n",
    "    sheet_name='MASTER SCORES')\n",
    "df.drop(df.columns[2:12],axis=1,inplace=True)\n",
    "df.drop(df.columns[0:1],axis=1,inplace=True)\n",
    "df.drop(df.index[0],axis=0,inplace=True)\n",
    "df.drop(df.columns[30:],axis=1,inplace=True)\n",
    "\n",
    "# extend empty headers to use the multiIndex\n",
    "a = df.columns.get_level_values(0).to_series().mask(lambda x: x.str.startswith('Unnamed')).ffill()\n",
    "a[0] = 'relevance'\n",
    "b = df.columns.get_level_values(1)\n",
    "df.columns = [a, b]\n",
    "\n",
    "df.index.names = ['criteria']\n",
    "df.columns.names = ['device','type']\n",
    "\n",
    "df.drop('RELEVANCE * SCORE',axis=1,level=1,inplace=True)\n",
    "\n",
    "df = df.reset_index()\n",
    "\n",
    "df"
   ]
  },
  {
   "cell_type": "code",
   "execution_count": null,
   "id": "714e4f2c",
   "metadata": {},
   "outputs": [],
   "source": [
    "categories = [\"Data Quality, Reliability & Analytics\", \"Data Access, Transparency & Handling\", \"Accessibility, Usability & User Experience\", \"Regulatory Concerns\", \"Scalability & Practicality\", \"Track Record & Data Availability\"]\n",
    "\n",
    "long = pd.melt(df, id_vars=['criteria',('relevance','relevance score')])\n",
    "long.insert(1,'group',[categories[int(x)-1] for x in long['criteria'].str[0]])\n",
    "long.rename(columns=str).rename(columns={'(relevance,relevance score)':'relevance'})\n",
    "\n",
    "renames = long.columns.to_list()\n",
    "renames[2] = 'relevance'\n",
    "long.columns = renames\n",
    "\n",
    "long\n"
   ]
  },
  {
   "cell_type": "code",
   "execution_count": null,
   "id": "2cc746f0",
   "metadata": {},
   "outputs": [],
   "source": [
    "# grouped = long.groupby(['group','device','type'])\n",
    "# grouped"
   ]
  },
  {
   "cell_type": "code",
   "execution_count": null,
   "id": "8f2f851d",
   "metadata": {},
   "outputs": [],
   "source": [
    "scored = long.loc[long['type'] == \"SCORE\"]\n",
    "\n",
    "scored"
   ]
  },
  {
   "cell_type": "code",
   "execution_count": null,
   "id": "555734c7",
   "metadata": {},
   "outputs": [],
   "source": [
    "from altair import datum\n",
    "\n",
    "box = alt.Chart(scored).mark_boxplot().encode(\n",
    "    x='device:O',\n",
    "    y='value:Q',\n",
    ")\n",
    "\n",
    "dot = alt.Chart(scored).mark_point().encode(\n",
    "    x='device:O',\n",
    "    y='value:Q',\n",
    "    color=alt.value('red'),\n",
    ").transform_filter(\n",
    "    (datum.relevance > 4) & (datum.value < .5)\n",
    ")\n",
    "\n",
    "(box + dot).facet(\n",
    "    column='group'\n",
    ")\n"
   ]
  }
 ],
 "metadata": {
  "kernelspec": {
   "display_name": "Python 3",
   "language": "python",
   "name": "python3"
  },
  "language_info": {
   "codemirror_mode": {
    "name": "ipython",
    "version": 3
   },
   "file_extension": ".py",
   "mimetype": "text/x-python",
   "name": "python",
   "nbconvert_exporter": "python",
   "pygments_lexer": "ipython3",
   "version": "3.8.0"
  }
 },
 "nbformat": 4,
 "nbformat_minor": 5
}
