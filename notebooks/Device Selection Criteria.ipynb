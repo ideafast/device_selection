{
 "cells": [
  {
   "cell_type": "code",
   "execution_count": null,
   "id": "e0d5a62f",
   "metadata": {},
   "outputs": [],
   "source": [
    "categories = [\"Data Quality, Reliability & Analytics\", \"Data Access, Transparency & Handling\", \"Accessibility, Usability & User Experience\", \"Regulatory Concerns\", \"Scalability & Practicality\", \"Track Record & Data Availability\"]"
   ]
  },
  {
   "cell_type": "code",
   "execution_count": null,
   "id": "1eaf27a1",
   "metadata": {},
   "outputs": [],
   "source": [
    "from pathlib import Path\n",
    "\n",
    "import pandas as pd\n",
    "import altair as alt\n",
    "import numpy as np\n",
    "\n",
    "import ideafast_deviceselection as ifds\n",
    "\n",
    "source = Path(ifds.__file__).parent.parent.absolute() / 'local/DeviceSelectionScoring.xlsx'\n",
    "\n",
    "\n",
    "df = pd.read_excel(\n",
    "    f\"{source}\",\n",
    "    index_col=0, header=[0,1], nrows=63,\n",
    "    sheet_name='MASTER SCORES')\n",
    "df.drop(df.columns[2:12],axis=1,inplace=True)\n",
    "df.drop(df.columns[0:1],axis=1,inplace=True)\n",
    "df.drop(df.index[0],axis=0,inplace=True)\n",
    "df.drop(df.columns[30:],axis=1,inplace=True)\n",
    "\n",
    "# extend empty headers to use the multiIndex\n",
    "a = df.columns.get_level_values(0).to_series().mask(lambda x: x.str.startswith('Unnamed')).ffill()\n",
    "a[0] = 'relevance'\n",
    "b = df.columns.get_level_values(1)\n",
    "df.columns = [a, b]\n",
    "\n",
    "df.index.names = [('criteria','type')]\n",
    "df.columns.names = ['device','type']\n",
    "\n",
    "df.drop('RELEVANCE * SCORE',axis=1,level=1,inplace=True)\n",
    "\n",
    "df.reset_index()"
   ]
  },
  {
   "cell_type": "code",
   "execution_count": null,
   "id": "e250660b",
   "metadata": {},
   "outputs": [],
   "source": [
    "df_stacked = df.set_index([('relevance','relevance score')], append=True)\n",
    "\n",
    "df_stacked= df_stacked.stack(level=0, dropna=False).rename_axis(index={('criteria','type'): 'criteria',('relevance','relevance score'):'relevance'}).reset_index()\n",
    "df_stacked.insert(1,'group',[categories[int(x)-1] for x in df_stacked['criteria'].str[0]])\n",
    "\n",
    "df_stacked"
   ]
  },
  {
   "cell_type": "code",
   "execution_count": null,
   "id": "8f2f851d",
   "metadata": {},
   "outputs": [],
   "source": [
    "# non-weighted scores are already in the dataframe\n",
    "scored = long.loc[(long['type'] == \"SCORE\") | (long['type'] == \"CERTAINTY\")]\n",
    "\n",
    "# for weighted scores in a boxplot, we want to express the weight in 'observations'\n",
    "# i.e., a relevance of 5 is represented by 5 rows with the same score.\n",
    "nested_result = [int(x.relevance) * (x, ) for x in df_stacked.itertuples(index=False) if not np.isnan(x.SCORE) and not np.isnan(x.CERTAINTY)]\n",
    "\n",
    "# !! Howcome there is a differente in x.SCORE is nan's and x.CERTAINTY is nan's??\n",
    "\n",
    "result = [element for tupl in nested_result for element in tupl]\n",
    "scored_weighted = pd.DataFrame(result)\n",
    "\n",
    "scored_weighted"
   ]
  },
  {
   "cell_type": "code",
   "execution_count": null,
   "id": "555734c7",
   "metadata": {},
   "outputs": [],
   "source": [
    "from altair import datum\n",
    "\n",
    "# base = alt.Chart(scored)\n",
    "base = alt.Chart(scored_weighted)\n",
    "\n",
    "boxplot = base.mark_boxplot().encode(\n",
    "    x='device:O',\n",
    "    y='SCORE:Q',\n",
    "    color=alt.Color('mean(CERTAINTY)',\n",
    "                    scale=alt.Scale(scheme='lighttealblue', domain=(0,1))),\n",
    ")\n",
    "\n",
    "dots = base.mark_circle(\n",
    "    color='orange',\n",
    "    opacity=1\n",
    ").encode(\n",
    "    x='device:O',\n",
    "    y='SCORE:Q',\n",
    ").transform_filter(\n",
    "    (datum.relevance > 4) & (datum.SCORE < .5)\n",
    ")\n",
    "\n",
    "(boxplot + dots).facet(\n",
    "    alt.Column(\"group:O\", title=\"Weighted Scores\")\n",
    ")"
   ]
  }
 ],
 "metadata": {
  "kernelspec": {
   "display_name": "Python 3",
   "language": "python",
   "name": "python3"
  },
  "language_info": {
   "codemirror_mode": {
    "name": "ipython",
    "version": 3
   },
   "file_extension": ".py",
   "mimetype": "text/x-python",
   "name": "python",
   "nbconvert_exporter": "python",
   "pygments_lexer": "ipython3",
   "version": "3.8.0"
  }
 },
 "nbformat": 4,
 "nbformat_minor": 5
}
